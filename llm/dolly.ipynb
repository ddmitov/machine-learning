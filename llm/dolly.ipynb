{
 "cells": [
  {
   "cell_type": "code",
   "execution_count": null,
   "metadata": {
    "application/vnd.databricks.v1+cell": {
     "cellMetadata": {
      "byteLimit": 2048000,
      "rowLimit": 10000
     },
     "inputWidgets": {},
     "nuid": "cdf02eb9-08bf-4d46-86a5-65779ea20204",
     "showTitle": false,
     "title": ""
    },
    "jupyter": {
     "outputs_hidden": true
    }
   },
   "outputs": [],
   "source": [
    "%pip install \"accelerate>=0.16.0,<1\" \"transformers[torch]>=4.28.1,<5\" \"torch>=1.13.1,<2\"\n",
    "\n",
    "# Command took 2.66 minutes"
   ]
  },
  {
   "cell_type": "code",
   "execution_count": null,
   "metadata": {
    "application/vnd.databricks.v1+cell": {
     "cellMetadata": {
      "byteLimit": 2048000,
      "rowLimit": 10000
     },
     "inputWidgets": {},
     "nuid": "d225c271-6bdf-44f8-b65d-a52bc9daa42f",
     "showTitle": false,
     "title": ""
    },
    "jupyter": {
     "outputs_hidden": true
    }
   },
   "outputs": [],
   "source": [
    "import torch\n",
    "from transformers import pipeline\n",
    "\n",
    "generate_text = pipeline(\n",
    "    model=\"databricks/dolly-v2-3b\",\n",
    "    torch_dtype=torch.bfloat16,\n",
    "    trust_remote_code=True,\n",
    "    device_map=\"auto\"\n",
    ")\n",
    "\n",
    "# Command took 4.90 minutes"
   ]
  },
  {
   "cell_type": "code",
   "execution_count": null,
   "metadata": {
    "application/vnd.databricks.v1+cell": {
     "cellMetadata": {
      "byteLimit": 2048000,
      "rowLimit": 10000
     },
     "inputWidgets": {},
     "nuid": "c50eadca-810b-4ea9-a6be-0de2ccc4f796",
     "showTitle": false,
     "title": ""
    }
   },
   "outputs": [
    {
     "name": "stdout",
     "output_type": "stream",
     "text": [
      "Nuclear fission is the breaking down of a single atom of uranium or another fissile material, producing many smaller particles called neutrons which are very likely to interact with others to produce more atomic nuclei, and generate additional radiation. In contrast, nuclear fusion is the process where two or more atomic nuclei (two or more atoms each carrying a positive electric charge) combine together, turning part of the positive charged inner nuclei into positively charged particles called ion nuclei (positive charged particles) and part of them into photons (ultraviolet light). Both nuclear fusion and nuclear fission have been proposed as explanation for the observed processes in the universe, but the discovery of the process of fusion in the sun in 1960 was a major step towards a viable nuclear fusion energy technology.\n"
     ]
    }
   ],
   "source": [
    "res = generate_text(\"Explain to me the difference between nuclear fission and fusion.\")\n",
    "\n",
    "print(res[0][\"generated_text\"])\n",
    "\n",
    "# Command took 16.18 minutes"
   ]
  },
  {
   "cell_type": "code",
   "execution_count": null,
   "metadata": {
    "application/vnd.databricks.v1+cell": {
     "cellMetadata": {
      "byteLimit": 2048000,
      "rowLimit": 10000
     },
     "inputWidgets": {},
     "nuid": "9ee3975c-85fb-47a1-866e-fef14d65986e",
     "showTitle": false,
     "title": ""
    }
   },
   "outputs": [
    {
     "name": "stdout",
     "output_type": "stream",
     "text": [
      "Giraffes are great beasts, possessing one of the largest and heaviest heads among mammals. The neck of a giraffe is very long, nearly as long as the body. Their long neck makes it a frequent and common sight to see giraffes nuzzle other giraffes. The male of the species is known as a upland male, and they generally weigh in around six to seven tons.\n"
     ]
    }
   ],
   "source": [
    "res = generate_text(\"What do you know about the giraffes?\")\n",
    "\n",
    "print(res[0][\"generated_text\"])\n",
    "\n",
    "# Command took 10.23 minutes"
   ]
  },
  {
   "cell_type": "code",
   "execution_count": null,
   "metadata": {
    "application/vnd.databricks.v1+cell": {
     "cellMetadata": {
      "byteLimit": 2048000,
      "rowLimit": 10000
     },
     "inputWidgets": {},
     "nuid": "9cdbcf87-a978-44b7-affb-fcf85c1dfcd1",
     "showTitle": false,
     "title": ""
    }
   },
   "outputs": [
    {
     "name": "stdout",
     "output_type": "stream",
     "text": [
      "World Giraffe Day is celebrated on 17 October each year.\n"
     ]
    }
   ],
   "source": [
    "res = generate_text(\"When is the World Giraffe Day?\")\n",
    "\n",
    "print(res[0][\"generated_text\"])\n",
    "\n",
    "# Command took 3.83 minutes"
   ]
  }
 ],
 "metadata": {
  "application/vnd.databricks.v1+notebook": {
   "dashboards": [],
   "language": "python",
   "notebookMetadata": {
    "pythonIndentUnit": 4
   },
   "notebookName": "dolly",
   "widgets": {}
  },
  "language_info": {
   "name": "python"
  }
 },
 "nbformat": 4,
 "nbformat_minor": 0
}
