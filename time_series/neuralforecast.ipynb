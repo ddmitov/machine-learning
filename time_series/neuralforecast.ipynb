{
  "cells": [
    {
      "cell_type": "code",
      "execution_count": null,
      "metadata": {
        "id": "4IboiVhsD8h1"
      },
      "outputs": [],
      "source": [
        "!pip install neuralforecast"
      ]
    },
    {
      "cell_type": "code",
      "execution_count": null,
      "metadata": {},
      "outputs": [],
      "source": [
        "import numpy as np\n",
        "import pandas as pd\n",
        "from IPython.display import display, Markdown\n",
        "\n",
        "import matplotlib.pyplot as plt\n",
        "from neuralforecast import NeuralForecast\n",
        "from neuralforecast.models import NBEATS, NHITS\n",
        "from neuralforecast.utils import AirPassengersDF"
      ]
    },
    {
      "cell_type": "code",
      "execution_count": null,
      "metadata": {},
      "outputs": [],
      "source": [
        "# Split data:\n",
        "ydf = AirPassengersDF\n",
        "\n",
        "ytrain_df = ydf[ydf.ds <= '1959-12-31'] # 132 timepoints to train\n",
        "ytest_df = ydf[ydf.ds > '1959-12-31'] # 12 timepoints to test"
      ]
    },
    {
      "cell_type": "code",
      "execution_count": null,
      "metadata": {
        "id": "v7nwRiFWD9nA"
      },
      "outputs": [],
      "source": [
        "# Fit and predict with N-BEATS and N-HiTS models:\n",
        "horizon = len(ytest_df)\n",
        "\n",
        "models = [\n",
        "  NBEATS(input_size=2 * horizon, h=horizon, max_epochs=50),\n",
        "  NHITS(input_size=2 * horizon, h=horizon, max_epochs=50)\n",
        "]\n",
        "\n",
        "nforecast = NeuralForecast(models=models, freq='M')\n",
        "nforecast.fit(df=ytrain_df)\n",
        "\n",
        "yhat_df = nforecast.predict().reset_index()"
      ]
    },
    {
      "cell_type": "code",
      "execution_count": null,
      "metadata": {},
      "outputs": [],
      "source": [
        "# Plot predictions:\n",
        "fig, ax = plt.subplots(1, 1, figsize = (20, 7))\n",
        "\n",
        "yhat_df = ytest_df.merge(yhat_df, how='left', on=['unique_id', 'ds'])\n",
        "plot_df = pd.concat([ytrain_df, yhat_df]).set_index('ds')\n",
        "\n",
        "plot_df[['y', 'NBEATS', 'NHITS']].plot(ax=ax, linewidth=2)\n",
        "\n",
        "ax.set_title('AirPassengers Forecast', fontsize=22)\n",
        "ax.set_ylabel('Monthly Passengers', fontsize=20)\n",
        "ax.set_xlabel('Timestamp [t]', fontsize=20)\n",
        "ax.legend(prop={'size': 15})\n",
        "ax.grid()"
      ]
    }
  ],
  "metadata": {
    "colab": {
      "provenance": []
    },
    "kernelspec": {
      "display_name": "Python 3",
      "name": "python3"
    },
    "language_info": {
      "name": "python"
    }
  },
  "nbformat": 4,
  "nbformat_minor": 0
}
