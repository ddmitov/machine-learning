{
  "nbformat": 4,
  "nbformat_minor": 0,
  "metadata": {
    "colab": {
      "provenance": []
    },
    "kernelspec": {
      "name": "python3",
      "display_name": "Python 3"
    },
    "language_info": {
      "name": "python"
    }
  },
  "cells": [
    {
      "cell_type": "code",
      "source": [
        "!pip install sentence-transformers"
      ],
      "metadata": {
        "id": "GLKFfsIx2OVh"
      },
      "execution_count": null,
      "outputs": []
    },
    {
      "cell_type": "code",
      "execution_count": 2,
      "metadata": {
        "id": "UiRHdq4UzXex"
      },
      "outputs": [],
      "source": [
        "import requests\n",
        "\n",
        "response = requests.get('https://raw.githubusercontent.com/ddmitov/magna-carta/master/tool/magna-carta.txt')\n",
        "text = response.text"
      ]
    },
    {
      "cell_type": "code",
      "source": [
        "corpus = text.split('\\n\\n')"
      ],
      "metadata": {
        "id": "h4hYfPk-0p_0"
      },
      "execution_count": 3,
      "outputs": []
    },
    {
      "cell_type": "code",
      "source": [
        "from sentence_transformers import SentenceTransformer, util\n",
        "from sklearn.cluster import KMeans, AgglomerativeClustering\n",
        "\n",
        "model = SentenceTransformer(\n",
        "    'silencesys/paraphrase-xlm-r-multilingual-v1-fine-tuned-for-medieval-latin'\n",
        ")"
      ],
      "metadata": {
        "id": "22KfQkn31rp6"
      },
      "execution_count": null,
      "outputs": []
    },
    {
      "cell_type": "code",
      "source": [
        "corpus_embeddings = model.encode(\n",
        "    corpus,\n",
        "    batch_size = 1024,\n",
        "    convert_to_tensor=True\n",
        ")"
      ],
      "metadata": {
        "id": "lmiZPVqp2bvY"
      },
      "execution_count": 5,
      "outputs": []
    },
    {
      "cell_type": "code",
      "source": [
        "# Method 1:\n",
        "clusters = util.community_detection(\n",
        "    corpus_embeddings,\n",
        "    min_community_size=1,\n",
        "    threshold=0.75\n",
        ")"
      ],
      "metadata": {
        "id": "LaKsmBefW3EE"
      },
      "execution_count": 6,
      "outputs": []
    },
    {
      "cell_type": "code",
      "source": [
        "for cluster_number, cluster in enumerate(clusters):\n",
        "    print('==========')\n",
        "    print(\"Cluster \", cluster_number + 1)\n",
        "    print('==========')\n",
        "\n",
        "    for sentence_id in cluster:\n",
        "        display(corpus[sentence_id])\n",
        "    \n",
        "    print(\"\")"
      ],
      "metadata": {
        "id": "mORMSgWEW-g9"
      },
      "execution_count": null,
      "outputs": []
    },
    {
      "cell_type": "code",
      "source": [
        "# Method 2:\n",
        "import numpy as np\n",
        "\n",
        "corpus_embeddings = (\n",
        "    corpus_embeddings /\n",
        "    np.linalg.norm(\n",
        "        corpus_embeddings,\n",
        "        axis=1,\n",
        "        keepdims=True\n",
        "    )\n",
        ")\n",
        "\n",
        "clustering_model = AgglomerativeClustering(\n",
        "    n_clusters=None,\n",
        "    affinity='cosine',\n",
        "    linkage='average',\n",
        "    distance_threshold=0.25\n",
        ")\n",
        "\n",
        "clustering_model.fit(corpus_embeddings)\n",
        "cluster_assignment = clustering_model.labels_"
      ],
      "metadata": {
        "id": "9y3hpnmaCbaI"
      },
      "execution_count": null,
      "outputs": []
    },
    {
      "cell_type": "code",
      "source": [
        "import collections\n",
        "\n",
        "clustered_sentences = {}\n",
        "\n",
        "for sentence_id, cluster_id in enumerate(cluster_assignment):\n",
        "    if cluster_id not in clustered_sentences:\n",
        "        clustered_sentences[cluster_id] = []\n",
        "\n",
        "    clustered_sentences[cluster_id].append(corpus[sentence_id])\n",
        "\n",
        "clustered_sentences_ordered = \\\n",
        "    collections.OrderedDict(sorted(clustered_sentences.items()))\n",
        "\n",
        "for cluster_number, cluster in clustered_sentences_ordered.items():\n",
        "    print('==========')\n",
        "    print(\"Cluster \", cluster_number + 1)\n",
        "    print('==========')\n",
        "    display(cluster)\n",
        "    print(\"\")"
      ],
      "metadata": {
        "id": "buRM1llAKk5W"
      },
      "execution_count": null,
      "outputs": []
    }
  ]
}