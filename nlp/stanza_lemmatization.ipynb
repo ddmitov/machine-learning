{
  "cells": [
    {
      "cell_type": "code",
      "execution_count": null,
      "metadata": {
        "id": "g4QxEaZnoE20"
      },
      "outputs": [],
      "source": [
        "!pip install stanza"
      ]
    },
    {
      "cell_type": "code",
      "execution_count": null,
      "metadata": {
        "id": "yjvmtxJKp6ao"
      },
      "outputs": [],
      "source": [
        "import stanza\n",
        "\n",
        "nlp = stanza.Pipeline(lang='la', processors='tokenize,lemma')"
      ]
    },
    {
      "cell_type": "code",
      "execution_count": null,
      "metadata": {
        "id": "pdRjtEvjsddc"
      },
      "outputs": [],
      "source": [
        "text = '''\n",
        "  Communia placita non sequantur curiam nostram, set teneantur in aliquo loco certo.\n",
        "  Nos reddemus filium Lewelini statim.\n",
        "  Nulli vendemus, nulli negabimus, aut differemus rectum aut justiciam.\n",
        "'''\n",
        "\n",
        "doc = nlp(text.lower())"
      ]
    },
    {
      "cell_type": "code",
      "execution_count": null,
      "metadata": {
        "id": "00b75K3zsjku"
      },
      "outputs": [],
      "source": [
        "import re"
      ]
    },
    {
      "cell_type": "code",
      "execution_count": null,
      "metadata": {
        "colab": {
          "base_uri": "https://localhost:8080/"
        },
        "id": "RIxCRF1Lsgjo",
        "outputId": "2dcb56f2-5fb9-4d50-fe1a-556ff87a342d"
      },
      "outputs": [],
      "source": [
        "for sent in doc.sentences:\n",
        "  for word in sent.words:\n",
        "    if re.match('\\w+', word.text):\n",
        "      print(word.text, '<-->', word.lemma)"
      ]
    }
  ],
  "metadata": {
    "colab": {
      "provenance": []
    },
    "kernelspec": {
      "display_name": "Python 3",
      "name": "python3"
    },
    "language_info": {
      "name": "python"
    }
  },
  "nbformat": 4,
  "nbformat_minor": 0
}
