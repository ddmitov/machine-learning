{
  "cells": [
    {
      "cell_type": "code",
      "execution_count": null,
      "metadata": {
        "application/vnd.databricks.v1+cell": {
          "cellMetadata": {},
          "inputWidgets": {},
          "nuid": "831757b4-b884-45db-aa68-6d5113f2283b",
          "showTitle": false,
          "title": ""
        },
        "id": "9EZc2cHXdBhM"
      },
      "outputs": [],
      "source": [
        "!pip install sentence-transformers\n",
        "!pip install torch"
      ]
    },
    {
      "cell_type": "code",
      "execution_count": null,
      "metadata": {
        "application/vnd.databricks.v1+cell": {
          "cellMetadata": {},
          "inputWidgets": {},
          "nuid": "bed8228d-d871-42e4-8468-2363abdfd4bd",
          "showTitle": false,
          "title": ""
        },
        "id": "P_0TS6XNVt4g"
      },
      "outputs": [],
      "source": [
        "import nltk\n",
        "nltk.download('punkt')"
      ]
    },
    {
      "cell_type": "code",
      "execution_count": null,
      "metadata": {
        "application/vnd.databricks.v1+cell": {
          "cellMetadata": {},
          "inputWidgets": {},
          "nuid": "6f84af58-0a38-4fda-9ff2-7244173f2c28",
          "showTitle": false,
          "title": ""
        },
        "id": "oEQGSKFzWC5-"
      },
      "outputs": [],
      "source": [
        "from nltk.tokenize import sent_tokenize"
      ]
    },
    {
      "cell_type": "code",
      "execution_count": null,
      "metadata": {
        "application/vnd.databricks.v1+cell": {
          "cellMetadata": {},
          "inputWidgets": {},
          "nuid": "0995615c-7ab7-42e0-a14f-13af4a372f61",
          "showTitle": false,
          "title": ""
        },
        "id": "mvzykKT-cUf3"
      },
      "outputs": [],
      "source": [
        "from sentence_transformers import SentenceTransformer, util\n",
        "import torch"
      ]
    },
    {
      "cell_type": "code",
      "execution_count": null,
      "metadata": {
        "application/vnd.databricks.v1+cell": {
          "cellMetadata": {},
          "inputWidgets": {},
          "nuid": "d9717df3-5ff3-49e8-bfb6-14e1b46975af",
          "showTitle": false,
          "title": ""
        },
        "id": "eR5Jxpe2R0_n"
      },
      "outputs": [],
      "source": [
        "text = '''\n",
        "  text\n",
        "'''"
      ]
    },
    {
      "cell_type": "code",
      "execution_count": null,
      "metadata": {
        "application/vnd.databricks.v1+cell": {
          "cellMetadata": {},
          "inputWidgets": {},
          "nuid": "e1e2157f-88b6-49ce-9dc6-2062f1c586a6",
          "showTitle": false,
          "title": ""
        },
        "id": "p47N8QDfVu9X"
      },
      "outputs": [],
      "source": [
        "text_sentences = sent_tokenize(text)"
      ]
    },
    {
      "cell_type": "code",
      "execution_count": null,
      "metadata": {
        "application/vnd.databricks.v1+cell": {
          "cellMetadata": {},
          "inputWidgets": {},
          "nuid": "7f51635c-d25d-417a-80a5-9b9d386eb361",
          "showTitle": false,
          "title": ""
        },
        "id": "4ZZwrfWeYIU5"
      },
      "outputs": [],
      "source": [
        "display(text_sentences)"
      ]
    },
    {
      "cell_type": "code",
      "execution_count": null,
      "metadata": {
        "application/vnd.databricks.v1+cell": {
          "cellMetadata": {},
          "inputWidgets": {},
          "nuid": "57c7c739-203c-4f03-9049-1af283c10b35",
          "showTitle": false,
          "title": ""
        },
        "id": "Al-78-nlY0W8"
      },
      "outputs": [],
      "source": [
        "model = SentenceTransformer(\n",
        "    'silencesys/paraphrase-xlm-r-multilingual-v1-fine-tuned-for-medieval-latin'\n",
        ")"
      ]
    },
    {
      "cell_type": "code",
      "execution_count": null,
      "metadata": {
        "application/vnd.databricks.v1+cell": {
          "cellMetadata": {},
          "inputWidgets": {},
          "nuid": "e606b729-17a0-494e-a9d3-dce71464765c",
          "showTitle": false,
          "title": ""
        },
        "id": "HC3GAd6TWXyF"
      },
      "outputs": [],
      "source": [
        "text_embeddings = model.encode(\n",
        "    text_sentences,\n",
        "    batch_size = 512,\n",
        "    convert_to_tensor=True\n",
        ")"
      ]
    },
    {
      "cell_type": "code",
      "execution_count": null,
      "metadata": {
        "application/vnd.databricks.v1+cell": {
          "cellMetadata": {},
          "inputWidgets": {},
          "nuid": "ac2a956b-bfe8-4610-99ae-13019c20b348",
          "showTitle": false,
          "title": ""
        },
        "id": "s5gGdX_vXF1J"
      },
      "outputs": [],
      "source": [
        "queries = ['query']"
      ]
    },
    {
      "cell_type": "code",
      "execution_count": null,
      "metadata": {
        "application/vnd.databricks.v1+cell": {
          "cellMetadata": {},
          "inputWidgets": {},
          "nuid": "bd781fb5-58d6-402f-acb8-8caef60ae112",
          "showTitle": false,
          "title": ""
        },
        "id": "4dLGAh-2XKNN"
      },
      "outputs": [],
      "source": [
        "top_k = min(5, len(text_sentences))\n",
        "\n",
        "for query in queries:\n",
        "    query_embedding = model.encode(query, convert_to_tensor=True)\n",
        "\n",
        "    # We use cosine-similarity and torch.topk to find the highest 5 scores\n",
        "    cos_scores = util.cos_sim(query_embedding, text_embeddings)[0]\n",
        "    top_results = torch.topk(cos_scores, k=top_k)\n",
        "\n",
        "    print(\"Query:\", query)\n",
        "    print(\"\\nTop 5 most similar sentences in corpus:\\n\")\n",
        "\n",
        "    for score, idx in zip(top_results[0], top_results[1]):\n",
        "        print(text_sentences[idx], \"(Score: {:.4f})\".format(score))\n",
        "        print('\\n')\n"
      ]
    }
  ],
  "metadata": {
    "application/vnd.databricks.v1+notebook": {
      "dashboards": [],
      "language": "python",
      "notebookMetadata": {
        "pythonIndentUnit": 4
      },
      "notebookName": "xml",
      "notebookOrigID": 4011879299492664,
      "widgets": {}
    },
    "colab": {
      "provenance": []
    },
    "kernelspec": {
      "display_name": "Python 3",
      "name": "python3"
    },
    "language_info": {
      "name": "python"
    }
  },
  "nbformat": 4,
  "nbformat_minor": 0
}
