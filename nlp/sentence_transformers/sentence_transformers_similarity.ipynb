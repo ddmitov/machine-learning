{
  "nbformat": 4,
  "nbformat_minor": 0,
  "metadata": {
    "colab": {
      "provenance": []
    },
    "kernelspec": {
      "name": "python3",
      "display_name": "Python 3"
    },
    "language_info": {
      "name": "python"
    }
  },
  "cells": [
    {
      "cell_type": "code",
      "source": [
        "!pip install sentence-transformers"
      ],
      "metadata": {
        "id": "d3diwf83a58_"
      },
      "execution_count": null,
      "outputs": []
    },
    {
      "cell_type": "code",
      "execution_count": null,
      "metadata": {
        "id": "PT9jpIuJaiXe"
      },
      "outputs": [],
      "source": [
        "from sentence_transformers import SentenceTransformer, util"
      ]
    },
    {
      "cell_type": "code",
      "source": [
        "model = SentenceTransformer(\"silencesys/paraphrase-xlm-r-multilingual-v1-fine-tuned-for-medieval-latin\")"
      ],
      "metadata": {
        "id": "pfe1I5yAanJm"
      },
      "execution_count": null,
      "outputs": []
    },
    {
      "cell_type": "code",
      "source": [
        "sentences = [\n",
        "    'Gallia est omnis divisa in partes tres.',\n",
        "    'Gallia est omnis separata in partes tres.',\n",
        "    'Fines Gallorum divisi sunt in tres partes.',\n",
        "    'Gallis a Germanis Rhenum dividit.',\n",
        "    'Fortuna audentes adiuvat.',\n",
        "    'Festina lente.',\n",
        "    'Tres faciunt collegium',\n",
        "    'Roma a Gallos capta erat.'\n",
        "  ]\n",
        "\n",
        "paraphrases = util.paraphrase_mining(model, sentences)\n",
        "\n",
        "for paraphrase in paraphrases[0:10]:\n",
        "    score, i, j = paraphrase\n",
        "    print(sentences[i])\n",
        "    print(sentences[j])\n",
        "    print('Score: ', score)\n",
        "    print('')"
      ],
      "metadata": {
        "colab": {
          "base_uri": "https://localhost:8080/"
        },
        "id": "GAQpH3mTavC4",
        "outputId": "83c005df-142a-4ba0-ba63-31ff4a6a2630"
      },
      "execution_count": null,
      "outputs": [
        {
          "output_type": "stream",
          "name": "stdout",
          "text": [
            "Gallia est omnis divisa in partes tres.\n",
            "Gallia est omnis separata in partes tres.\n",
            "Score:  0.8963278532028198\n",
            "\n",
            "Gallia est omnis divisa in partes tres.\n",
            "Gallis a Germanis Rhenum dividit.\n",
            "Score:  0.6271713972091675\n",
            "\n",
            "Gallia est omnis separata in partes tres.\n",
            "Gallis a Germanis Rhenum dividit.\n",
            "Score:  0.6241378784179688\n",
            "\n",
            "Gallis a Germanis Rhenum dividit.\n",
            "Roma a Gallos capta erat.\n",
            "Score:  0.6028279066085815\n",
            "\n",
            "Gallia est omnis divisa in partes tres.\n",
            "Fines Gallorum divisi sunt in tres partes.\n",
            "Score:  0.5374048352241516\n",
            "\n",
            "Gallia est omnis separata in partes tres.\n",
            "Roma a Gallos capta erat.\n",
            "Score:  0.5311504602432251\n",
            "\n",
            "Gallia est omnis separata in partes tres.\n",
            "Fines Gallorum divisi sunt in tres partes.\n",
            "Score:  0.5258168578147888\n",
            "\n",
            "Gallia est omnis divisa in partes tres.\n",
            "Roma a Gallos capta erat.\n",
            "Score:  0.5212317109107971\n",
            "\n",
            "Festina lente.\n",
            "Roma a Gallos capta erat.\n",
            "Score:  0.5034505128860474\n",
            "\n",
            "Fortuna audentes adiuvat.\n",
            "Roma a Gallos capta erat.\n",
            "Score:  0.484384685754776\n",
            "\n"
          ]
        }
      ]
    }
  ]
}