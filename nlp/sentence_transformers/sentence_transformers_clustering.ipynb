{
  "cells": [
    {
      "cell_type": "code",
      "execution_count": null,
      "metadata": {
        "id": "GLKFfsIx2OVh"
      },
      "outputs": [],
      "source": [
        "!pip install sentence-transformers"
      ]
    },
    {
      "cell_type": "code",
      "execution_count": 2,
      "metadata": {
        "id": "UiRHdq4UzXex"
      },
      "outputs": [],
      "source": [
        "import requests\n",
        "\n",
        "response = requests.get('https://raw.githubusercontent.com/ddmitov/magna-carta/master/magna-carta.txt')\n",
        "text = response.text"
      ]
    },
    {
      "cell_type": "code",
      "execution_count": 3,
      "metadata": {
        "id": "h4hYfPk-0p_0"
      },
      "outputs": [],
      "source": [
        "corpus = text.split('\\n\\n')"
      ]
    },
    {
      "cell_type": "code",
      "execution_count": null,
      "metadata": {
        "id": "22KfQkn31rp6"
      },
      "outputs": [],
      "source": [
        "from sentence_transformers import SentenceTransformer, util\n",
        "from sklearn.cluster import KMeans, AgglomerativeClustering\n",
        "\n",
        "model = SentenceTransformer(\n",
        "    'silencesys/paraphrase-xlm-r-multilingual-v1-fine-tuned-for-medieval-latin'\n",
        ")"
      ]
    },
    {
      "cell_type": "code",
      "execution_count": 5,
      "metadata": {
        "id": "lmiZPVqp2bvY"
      },
      "outputs": [],
      "source": [
        "corpus_embeddings = model.encode(\n",
        "    corpus,\n",
        "    batch_size = 1024,\n",
        "    convert_to_tensor=True\n",
        ")"
      ]
    },
    {
      "cell_type": "code",
      "execution_count": 6,
      "metadata": {
        "id": "LaKsmBefW3EE"
      },
      "outputs": [],
      "source": [
        "# Method 1:\n",
        "clusters = util.community_detection(\n",
        "    corpus_embeddings,\n",
        "    min_community_size=1,\n",
        "    threshold=0.75\n",
        ")"
      ]
    },
    {
      "cell_type": "code",
      "execution_count": null,
      "metadata": {
        "id": "mORMSgWEW-g9"
      },
      "outputs": [],
      "source": [
        "for cluster_number, cluster in enumerate(clusters):\n",
        "    print('==========')\n",
        "    print(\"Cluster \", cluster_number + 1)\n",
        "    print('==========')\n",
        "\n",
        "    for sentence_id in cluster:\n",
        "        display(corpus[sentence_id])\n",
        "    \n",
        "    print(\"\")"
      ]
    },
    {
      "cell_type": "code",
      "execution_count": null,
      "metadata": {
        "id": "9y3hpnmaCbaI"
      },
      "outputs": [],
      "source": [
        "# Method 2:\n",
        "import numpy as np\n",
        "\n",
        "corpus_embeddings = (\n",
        "    corpus_embeddings /\n",
        "    np.linalg.norm(\n",
        "        corpus_embeddings,\n",
        "        axis=1,\n",
        "        keepdims=True\n",
        "    )\n",
        ")\n",
        "\n",
        "clustering_model = AgglomerativeClustering(\n",
        "    n_clusters=None,\n",
        "    affinity='cosine',\n",
        "    linkage='average',\n",
        "    distance_threshold=0.25\n",
        ")\n",
        "\n",
        "clustering_model.fit(corpus_embeddings)\n",
        "cluster_assignment = clustering_model.labels_"
      ]
    },
    {
      "cell_type": "code",
      "execution_count": null,
      "metadata": {
        "id": "buRM1llAKk5W"
      },
      "outputs": [],
      "source": [
        "import collections\n",
        "\n",
        "clustered_sentences = {}\n",
        "\n",
        "for sentence_id, cluster_id in enumerate(cluster_assignment):\n",
        "    if cluster_id not in clustered_sentences:\n",
        "        clustered_sentences[cluster_id] = []\n",
        "\n",
        "    clustered_sentences[cluster_id].append(corpus[sentence_id])\n",
        "\n",
        "clustered_sentences_ordered = \\\n",
        "    collections.OrderedDict(sorted(clustered_sentences.items()))\n",
        "\n",
        "for cluster_number, cluster in clustered_sentences_ordered.items():\n",
        "    print('==========')\n",
        "    print(\"Cluster \", cluster_number + 1)\n",
        "    print('==========')\n",
        "    display(cluster)\n",
        "    print(\"\")"
      ]
    }
  ],
  "metadata": {
    "colab": {
      "provenance": []
    },
    "kernelspec": {
      "display_name": "Python 3",
      "name": "python3"
    },
    "language_info": {
      "name": "python"
    }
  },
  "nbformat": 4,
  "nbformat_minor": 0
}
