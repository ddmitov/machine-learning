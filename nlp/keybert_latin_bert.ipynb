{
  "cells": [
    {
      "cell_type": "code",
      "execution_count": null,
      "metadata": {
        "id": "Isdg4rJE8_Tj"
      },
      "outputs": [],
      "source": [
        "!pip install keybert[flair]"
      ]
    },
    {
      "cell_type": "code",
      "execution_count": null,
      "metadata": {
        "id": "6eUcXL3uCQGT"
      },
      "outputs": [],
      "source": [
        "!mkdir ./bert-base-latin-uncased\n",
        "\n",
        "!wget --no-check-certificate --load-cookies /tmp/cookies.txt \\\n",
        "\"https://docs.google.com/uc?export=download&confirm=$(wget --quiet \\\n",
        "--save-cookies /tmp/cookies.txt --keep-session-cookies --no-check-certificate \\\n",
        " 'https://docs.google.com/uc?export=download&id=1Te_14UB-DZ8wYPhHGyDg7LadDTjNzpti' -O- | \\\n",
        "sed -rn 's/.*confirm=([0-9A-Za-z_]+).*/\\1\\n/p')&id=1Te_14UB-DZ8wYPhHGyDg7LadDTjNzpti\" \\\n",
        "-O ./latin_bert.tar\n",
        "\n",
        "!rm -f /tmp/cookies.txt\n",
        "\n",
        "!tar -xf ./latin_bert.tar --strip-components 1 -C ./bert-base-latin-uncased\n",
        "!rm ./latin_bert.tar"
      ]
    },
    {
      "cell_type": "code",
      "execution_count": 4,
      "metadata": {
        "id": "lBjga22i9XQ4"
      },
      "outputs": [],
      "source": [
        "import re\n",
        "\n",
        "from flair.embeddings import TransformerDocumentEmbeddings\n",
        "\n",
        "from keybert import KeyBERT\n",
        "\n",
        "import requests"
      ]
    },
    {
      "cell_type": "code",
      "execution_count": 5,
      "metadata": {
        "id": "LAVeCIQc9xSE"
      },
      "outputs": [],
      "source": [
        "magna_carta_response = requests.get('https://raw.githubusercontent.com/ddmitov/magna-carta/master/tool/magna-carta.txt')\n",
        "magna_carta_text = magna_carta_response.text"
      ]
    },
    {
      "cell_type": "code",
      "execution_count": 6,
      "metadata": {
        "id": "PvQYHlIB99aJ"
      },
      "outputs": [],
      "source": [
        "stopwords_response = requests.get('https://raw.githubusercontent.com/aurelberra/stopwords/master/stopwords_latin.txt')\n",
        "stopwords_text = stopwords_response.text\n",
        "\n",
        "stopwords = []\n",
        "\n",
        "stopword_lines = stopwords_text.split('\\n')\n",
        "\n",
        "for stopword_line in stopword_lines:\n",
        "  if not re.match('^#', stopword_line):\n",
        "    stopwords.append(stopword_line.strip())"
      ]
    },
    {
      "cell_type": "code",
      "execution_count": 7,
      "metadata": {
        "id": "C_560MEs_gDs"
      },
      "outputs": [],
      "source": [
        "keyword_model = KeyBERT(\n",
        "    model=TransformerDocumentEmbeddings(\n",
        "        \"./bert-base-latin-uncased/\"\n",
        "    )\n",
        ")"
      ]
    },
    {
      "cell_type": "code",
      "execution_count": null,
      "metadata": {
        "colab": {
          "base_uri": "https://localhost:8080/"
        },
        "id": "GEHWHUrK9_nX",
        "outputId": "d831786f-f94b-44bd-8ab1-f86bcb9ce5f2"
      },
      "outputs": [],
      "source": [
        "keyword_model.extract_keywords(\n",
        "    docs=magna_carta_text,\n",
        "    stop_words=stopwords,\n",
        "    top_n=30\n",
        ")"
      ]
    }
  ],
  "metadata": {
    "colab": {
      "provenance": []
    },
    "kernelspec": {
      "display_name": "Python 3",
      "name": "python3"
    },
    "language_info": {
      "name": "python"
    }
  },
  "nbformat": 4,
  "nbformat_minor": 0
}
