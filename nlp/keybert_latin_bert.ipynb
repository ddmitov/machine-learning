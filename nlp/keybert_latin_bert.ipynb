{
  "nbformat": 4,
  "nbformat_minor": 0,
  "metadata": {
    "colab": {
      "provenance": []
    },
    "kernelspec": {
      "name": "python3",
      "display_name": "Python 3"
    },
    "language_info": {
      "name": "python"
    }
  },
  "cells": [
    {
      "cell_type": "code",
      "execution_count": null,
      "metadata": {
        "id": "Isdg4rJE8_Tj"
      },
      "outputs": [],
      "source": [
        "!pip install keybert[flair]"
      ]
    },
    {
      "cell_type": "code",
      "source": [
        "!mkdir ./bert-base-latin-uncased\n",
        "\n",
        "!wget --no-check-certificate --load-cookies /tmp/cookies.txt \\\n",
        "\"https://docs.google.com/uc?export=download&confirm=$(wget --quiet \\\n",
        "--save-cookies /tmp/cookies.txt --keep-session-cookies --no-check-certificate \\\n",
        " 'https://docs.google.com/uc?export=download&id=1Te_14UB-DZ8wYPhHGyDg7LadDTjNzpti' -O- | \\\n",
        "sed -rn 's/.*confirm=([0-9A-Za-z_]+).*/\\1\\n/p')&id=1Te_14UB-DZ8wYPhHGyDg7LadDTjNzpti\" \\\n",
        "-O ./latin_bert.tar\n",
        "\n",
        "!rm -f /tmp/cookies.txt\n",
        "\n",
        "!tar -xf ./latin_bert.tar --strip-components 1 -C ./bert-base-latin-uncased\n",
        "!rm ./latin_bert.tar"
      ],
      "metadata": {
        "id": "6eUcXL3uCQGT"
      },
      "execution_count": null,
      "outputs": []
    },
    {
      "cell_type": "code",
      "source": [
        "import re\n",
        "\n",
        "from flair.embeddings import TransformerDocumentEmbeddings\n",
        "\n",
        "from keybert import KeyBERT\n",
        "\n",
        "import requests"
      ],
      "metadata": {
        "id": "lBjga22i9XQ4"
      },
      "execution_count": 3,
      "outputs": []
    },
    {
      "cell_type": "code",
      "source": [
        "magna_carta_response = requests.get('https://raw.githubusercontent.com/ddmitov/magna-carta/master/magna-carta.txt')\n",
        "magna_carta_text = magna_carta_response.text"
      ],
      "metadata": {
        "id": "LAVeCIQc9xSE"
      },
      "execution_count": 4,
      "outputs": []
    },
    {
      "cell_type": "code",
      "source": [
        "stopwords_response = requests.get('https://raw.githubusercontent.com/aurelberra/stopwords/master/stopwords_latin.txt')\n",
        "stopwords_text = stopwords_response.text\n",
        "\n",
        "stopwords = []\n",
        "\n",
        "stopword_lines = stopwords_text.split('\\n')\n",
        "\n",
        "for stopword_line in stopword_lines:\n",
        "  if not re.match('^#', stopword_line):\n",
        "    stopwords.append(stopword_line.strip())"
      ],
      "metadata": {
        "id": "PvQYHlIB99aJ"
      },
      "execution_count": 5,
      "outputs": []
    },
    {
      "cell_type": "code",
      "source": [
        "keyword_model = KeyBERT(\n",
        "    model=TransformerDocumentEmbeddings(\n",
        "        \"./bert-base-latin-uncased/\"\n",
        "    )\n",
        ")"
      ],
      "metadata": {
        "id": "C_560MEs_gDs"
      },
      "execution_count": 6,
      "outputs": []
    },
    {
      "cell_type": "code",
      "source": [
        "keyword_model.extract_keywords(\n",
        "    docs=magna_carta_text,\n",
        "    stop_words=stopwords,\n",
        "    top_n=30\n",
        ")"
      ],
      "metadata": {
        "colab": {
          "base_uri": "https://localhost:8080/"
        },
        "id": "GEHWHUrK9_nX",
        "outputId": "02310ea8-4aec-43ca-c0ca-66a27bbeefac"
      },
      "execution_count": 7,
      "outputs": [
        {
          "output_type": "execute_result",
          "data": {
            "text/plain": [
              "[('ville', 0.9064),\n",
              " ('rex', 0.8995),\n",
              " ('baro', 0.8902),\n",
              " ('jus', 0.8892),\n",
              " ('dos', 0.8875),\n",
              " ('libera', 0.8874),\n",
              " ('terre', 0.8872),\n",
              " ('morte', 0.8866),\n",
              " ('due', 0.884),\n",
              " ('pater', 0.882),\n",
              " ('capi', 0.8809),\n",
              " ('magno', 0.8806),\n",
              " ('anno', 0.8791),\n",
              " ('dies', 0.8791),\n",
              " ('capitalis', 0.8785),\n",
              " ('jura', 0.8774),\n",
              " ('salva', 0.8772),\n",
              " ('bene', 0.8761),\n",
              " ('male', 0.8738),\n",
              " ('loco', 0.8734),\n",
              " ('alie', 0.8727),\n",
              " ('gracia', 0.8693),\n",
              " ('ire', 0.867),\n",
              " ('dei', 0.8663),\n",
              " ('curia', 0.8663),\n",
              " ('bona', 0.866),\n",
              " ('capitali', 0.865),\n",
              " ('fide', 0.864),\n",
              " ('viri', 0.8623),\n",
              " ('nova', 0.8615)]"
            ]
          },
          "metadata": {},
          "execution_count": 7
        }
      ]
    }
  ]
}