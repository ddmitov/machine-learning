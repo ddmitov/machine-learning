{
  "nbformat": 4,
  "nbformat_minor": 0,
  "metadata": {
    "colab": {
      "provenance": []
    },
    "kernelspec": {
      "name": "python3",
      "display_name": "Python 3"
    },
    "language_info": {
      "name": "python"
    }
  },
  "cells": [
    {
      "cell_type": "code",
      "source": [
        "!pip install transformers"
      ],
      "metadata": {
        "id": "TxHaIV1BVmrH"
      },
      "execution_count": null,
      "outputs": []
    },
    {
      "cell_type": "code",
      "source": [
        "from typing import List\n",
        "from transformers import AutoTokenizer, AutoModelForSeq2SeqLM"
      ],
      "metadata": {
        "id": "t1LjBTy3XEM_"
      },
      "execution_count": 2,
      "outputs": []
    },
    {
      "cell_type": "code",
      "source": [
        "tokenizer = AutoTokenizer.from_pretrained(\"juierror/text-to-sql-with-table-schema\")\n",
        "model = AutoModelForSeq2SeqLM.from_pretrained(\"juierror/text-to-sql-with-table-schema\")"
      ],
      "metadata": {
        "id": "25Q8prVQlDTS"
      },
      "execution_count": null,
      "outputs": []
    },
    {
      "cell_type": "code",
      "execution_count": 4,
      "metadata": {
        "id": "wza0yTKEVNi_"
      },
      "outputs": [],
      "source": [
        "def prepare_input(question: str, table: List[str]):\n",
        "    table_prefix = \"table:\"\n",
        "    question_prefix = \"question:\"\n",
        "    join_table = \",\".join(table)\n",
        "    inputs = f\"{question_prefix} {question} {table_prefix} {join_table}\"\n",
        "    input_ids = tokenizer(inputs, max_length=700, return_tensors=\"pt\").input_ids\n",
        "    return input_ids\n",
        "\n",
        "def inference(question: str, table: List[str]) -> str:\n",
        "    input_data = prepare_input(question=question, table=table)\n",
        "    input_data = input_data.to(model.device)\n",
        "    outputs = model.generate(inputs=input_data, num_beams=10, top_k=10, max_length=700)\n",
        "    result = tokenizer.decode(token_ids=outputs[0], skip_special_tokens=True)\n",
        "    return result"
      ]
    },
    {
      "cell_type": "code",
      "source": [
        "print('')\n",
        "print(inference(question=\"Give me the total hits from Brazil for 2022-10-01.\", table=['date', 'country', 'hits']))\n",
        "print('')"
      ],
      "metadata": {
        "colab": {
          "base_uri": "https://localhost:8080/"
        },
        "id": "HVL8sJNVXKjC",
        "outputId": "890afa72-0497-49a9-ffb4-85cbbbd0d60c"
      },
      "execution_count": 7,
      "outputs": [
        {
          "output_type": "stream",
          "name": "stdout",
          "text": [
            "\n",
            "SELECT SUM hits FROM table WHERE country = brazil AND date = 2022-10-01\n",
            "\n"
          ]
        }
      ]
    }
  ]
}