{
  "nbformat": 4,
  "nbformat_minor": 0,
  "metadata": {
    "colab": {
      "provenance": []
    },
    "kernelspec": {
      "name": "python3",
      "display_name": "Python 3"
    },
    "language_info": {
      "name": "python"
    }
  },
  "cells": [
    {
      "cell_type": "code",
      "execution_count": null,
      "metadata": {
        "id": "4IboiVhsD8h1"
      },
      "outputs": [],
      "source": [
        "!pip install neuralforecast"
      ]
    },
    {
      "cell_type": "code",
      "source": [
        "import numpy as np\n",
        "import pandas as pd\n",
        "from IPython.display import display, Markdown\n",
        "\n",
        "import matplotlib.pyplot as plt\n",
        "from neuralforecast import NeuralForecast\n",
        "from neuralforecast.models import NBEATS, NHITS\n",
        "from neuralforecast.utils import AirPassengersDF\n",
        "\n",
        "# Split data and declare panel dataset\n",
        "Y_df = AirPassengersDF\n",
        "Y_train_df = Y_df[Y_df.ds<='1959-12-31'] # 132 train\n",
        "Y_test_df = Y_df[Y_df.ds>'1959-12-31'] # 12 test\n",
        "\n",
        "# Fit and predict with N-BEATS and N-HiTS models\n",
        "horizon = len(Y_test_df)\n",
        "models = [\n",
        "  NBEATS(input_size=2 * horizon, h=horizon, max_epochs=50),\n",
        "  NHITS(input_size=2 * horizon, h=horizon, max_epochs=50)\n",
        "]\n",
        "nforecast = NeuralForecast(models=models, freq='M')\n",
        "nforecast.fit(df=Y_train_df)\n",
        "Y_hat_df = nforecast.predict().reset_index()\n",
        "\n",
        "# Plot predictions\n",
        "fig, ax = plt.subplots(1, 1, figsize = (20, 7))\n",
        "Y_hat_df = Y_test_df.merge(Y_hat_df, how='left', on=['unique_id', 'ds'])\n",
        "plot_df = pd.concat([Y_train_df, Y_hat_df]).set_index('ds')\n",
        "\n",
        "plot_df[['y', 'NBEATS', 'NHITS']].plot(ax=ax, linewidth=2)\n",
        "\n",
        "ax.set_title('AirPassengers Forecast', fontsize=22)\n",
        "ax.set_ylabel('Monthly Passengers', fontsize=20)\n",
        "ax.set_xlabel('Timestamp [t]', fontsize=20)\n",
        "ax.legend(prop={'size': 15})\n",
        "ax.grid()"
      ],
      "metadata": {
        "id": "v7nwRiFWD9nA"
      },
      "execution_count": null,
      "outputs": []
    }
  ]
}