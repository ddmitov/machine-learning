{
  "cells": [
    {
      "cell_type": "markdown",
      "metadata": {
        "id": "hhMACKisq3rt"
      },
      "source": [
        "![JohnSnowLabs](https://nlp.johnsnowlabs.com/assets/images/logo.png)"
      ]
    },
    {
      "cell_type": "code",
      "execution_count": null,
      "metadata": {
        "colab": {
          "base_uri": "https://localhost:8080/"
        },
        "id": "gCZYK-3FnEY-",
        "outputId": "109e552d-0f1c-4e95-95ee-6c18b54f15da"
      },
      "outputs": [],
      "source": [
        "!pip install -q pyspark==3.3.0 spark-nlp==4.2.0"
      ]
    },
    {
      "cell_type": "code",
      "execution_count": null,
      "metadata": {
        "colab": {
          "base_uri": "https://localhost:8080/"
        },
        "id": "BbrKqGQWnGlv",
        "outputId": "1480086f-8bc9-46c9-a444-53cd07bef298"
      },
      "outputs": [
        {
          "name": "stdout",
          "output_type": "stream",
          "text": [
            "Spark NLP version 4.2.0\n",
            "Apache Spark version: 3.3.0\n"
          ]
        }
      ],
      "source": [
        "import sparknlp\n",
        "\n",
        "spark = sparknlp.start()\n",
        "\n",
        "from sparknlp.base import *\n",
        "from sparknlp.annotator import *\n",
        "from pyspark.ml import Pipeline\n",
        "import pandas as pd\n",
        "\n",
        "print(\"Spark NLP version\", sparknlp.version())\n",
        "print(\"Apache Spark version:\", spark.version)"
      ]
    },
    {
      "cell_type": "code",
      "execution_count": null,
      "metadata": {
        "colab": {
          "base_uri": "https://localhost:8080/"
        },
        "id": "y_UAXUHgxqzE",
        "outputId": "6ac81ef2-1c82-474c-e220-60fc690da948"
      },
      "outputs": [
        {
          "name": "stdout",
          "output_type": "stream",
          "text": [
            "t5_small_wikiSQL download started this may take some time.\n",
            "Approximate size to download 249.9 MB\n",
            "[OK!]\n"
          ]
        }
      ],
      "source": [
        "documentAssembler = DocumentAssembler() \\\n",
        "        .setInputCol(\"text\") \\\n",
        "        .setOutputCol(\"documents\")\n",
        "\n",
        "t5 = T5Transformer.pretrained(\"t5_small_wikiSQL\") \\\n",
        "        .setTask(\"translate English to SQL:\") \\\n",
        "        .setInputCols([\"documents\"]) \\\n",
        "        .setMaxOutputLength(200) \\\n",
        "        .setOutputCol(\"sql\")\n",
        "\n",
        "pipeline = Pipeline().setStages([documentAssembler, t5])"
      ]
    },
    {
      "cell_type": "code",
      "execution_count": null,
      "metadata": {
        "colab": {
          "base_uri": "https://localhost:8080/"
        },
        "id": "9Z3rAgd6nHue",
        "outputId": "100ddbb6-a129-4990-beec-4b0a13b86e39"
      },
      "outputs": [
        {
          "name": "stdout",
          "output_type": "stream",
          "text": [
            "+-----------------------------------------------------------------------------------------------+\n",
            "|result                                                                                         |\n",
            "+-----------------------------------------------------------------------------------------------+\n",
            "|[SELECT COUNT Customers FROM table WHERE Orders > 2 AND Country = brazil AND Date = 2022-06-01]|\n",
            "+-----------------------------------------------------------------------------------------------+\n",
            "\n"
          ]
        }
      ],
      "source": [
        "data = spark.createDataFrame([[\"How many customers from Brazil have ordered more than 2 items on 2022-06-01?\"]]).toDF(\"text\")\n",
        "\n",
        "result = pipeline.fit(data).transform(data)\n",
        "\n",
        "result.select(\"sql.result\").show(truncate=False)"
      ]
    }
  ],
  "metadata": {
    "colab": {
      "machine_shape": "hm",
      "provenance": []
    },
    "gpuClass": "standard",
    "kernelspec": {
      "display_name": "Python 3",
      "name": "python3"
    },
    "language_info": {
      "name": "python"
    }
  },
  "nbformat": 4,
  "nbformat_minor": 0
}
