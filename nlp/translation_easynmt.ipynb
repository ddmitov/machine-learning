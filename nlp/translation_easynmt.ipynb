{
  "cells": [
    {
      "cell_type": "code",
      "execution_count": null,
      "metadata": {
        "id": "608QzY9VUyYV"
      },
      "outputs": [],
      "source": [
        "!pip install easynmt\n",
        "!pip install sacremoses\n",
        "\n",
        "# 1m"
      ]
    },
    {
      "cell_type": "code",
      "execution_count": null,
      "metadata": {
        "id": "iQTv4ViCIJXP"
      },
      "outputs": [],
      "source": [
        "import nltk\n",
        "nltk.download('punkt')\n",
        "\n",
        "# 5s"
      ]
    },
    {
      "cell_type": "code",
      "execution_count": null,
      "metadata": {
        "colab": {
          "base_uri": "https://localhost:8080/",
          "height": 195
        },
        "id": "qL_EXsElrSXL",
        "outputId": "783483ec-6a6d-4f91-aa0e-ae7f1fcb6267"
      },
      "outputs": [],
      "source": [
        "import json\n",
        "from google.colab import files\n",
        "\n",
        "uploaded = files.upload()\n",
        "\n",
        "with open(list(uploaded.keys())[0]) as file:\n",
        "    data = json.load(file)\n",
        "\n",
        "text = data['contents']\n",
        "\n",
        "display(text)"
      ]
    },
    {
      "cell_type": "code",
      "execution_count": null,
      "metadata": {
        "id": "coXd3v1PsPMk"
      },
      "outputs": [],
      "source": [
        "import warnings\n",
        "warnings.filterwarnings('ignore')\n",
        "\n",
        "from easynmt import EasyNMT\n",
        "\n",
        "model = EasyNMT('opus-mt')\n",
        "\n",
        "model.translate(\n",
        "    documents='Downloading and caching model ...',\n",
        "    source_lang='en',\n",
        "    target_lang='de',\n",
        "    batch_size=8,\n",
        "    beam_size=3,\n",
        "    show_progress_bar=False,\n",
        ")\n",
        "\n",
        "# 21s"
      ]
    },
    {
      "cell_type": "code",
      "execution_count": null,
      "metadata": {
        "colab": {
          "base_uri": "https://localhost:8080/",
          "height": 122
        },
        "id": "5nr4WXj0stfj",
        "outputId": "b4d48ce1-a534-4e87-89ab-3f42eff3e323"
      },
      "outputs": [],
      "source": [
        "translation = model.translate(\n",
        "    documents=text,\n",
        "    source_lang='en',\n",
        "    target_lang='de',\n",
        "    batch_size=8,\n",
        "    beam_size=3,\n",
        "    show_progress_bar=False,\n",
        ")\n",
        "\n",
        "display(translation)\n",
        "\n",
        "# 1m"
      ]
    }
  ],
  "metadata": {
    "colab": {
      "provenance": []
    },
    "kernelspec": {
      "display_name": "Python 3",
      "name": "python3"
    },
    "language_info": {
      "name": "python"
    }
  },
  "nbformat": 4,
  "nbformat_minor": 0
}
