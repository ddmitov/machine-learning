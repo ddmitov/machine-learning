{
  "cells": [
    {
      "cell_type": "code",
      "execution_count": null,
      "metadata": {
        "id": "LUiZ_zcUcxzP"
      },
      "outputs": [],
      "source": [
        "!pip install qdrant-client\n",
        "!pip install sentence-transformers"
      ]
    },
    {
      "cell_type": "code",
      "execution_count": null,
      "metadata": {
        "id": "IZgvj7p5p3Sx"
      },
      "outputs": [],
      "source": [
        "!mkdir ./bert-base-latin-uncased\n",
        "\n",
        "!wget --no-check-certificate --load-cookies /tmp/cookies.txt \\\n",
        "\"https://docs.google.com/uc?export=download&confirm=$(wget --quiet \\\n",
        "--save-cookies /tmp/cookies.txt --keep-session-cookies --no-check-certificate \\\n",
        " 'https://docs.google.com/uc?export=download&id=1Te_14UB-DZ8wYPhHGyDg7LadDTjNzpti' -O- | \\\n",
        "sed -rn 's/.*confirm=([0-9A-Za-z_]+).*/\\1\\n/p')&id=1Te_14UB-DZ8wYPhHGyDg7LadDTjNzpti\" \\\n",
        "-O ./latin_bert.tar\n",
        "\n",
        "!rm -f /tmp/cookies.txt\n",
        "\n",
        "!tar -xf ./latin_bert.tar --strip-components 1 -C ./bert-base-latin-uncased\n",
        "!rm ./latin_bert.tar"
      ]
    },
    {
      "cell_type": "code",
      "execution_count": 17,
      "metadata": {
        "id": "0LvwLV9Cc27y"
      },
      "outputs": [],
      "source": [
        "from google.colab import files\n",
        "\n",
        "import nltk\n",
        "from nltk.tokenize import sent_tokenize\n",
        "\n",
        "from qdrant_client import models, QdrantClient\n",
        "\n",
        "from sentence_transformers import SentenceTransformer"
      ]
    },
    {
      "cell_type": "code",
      "execution_count": null,
      "metadata": {
        "id": "sK4NEKdQL3qb"
      },
      "outputs": [],
      "source": [
        "nltk.download('punkt')"
      ]
    },
    {
      "cell_type": "code",
      "execution_count": null,
      "metadata": {
        "colab": {
          "base_uri": "https://localhost:8080/",
          "height": 73
        },
        "id": "ncKggqzM5o1P",
        "outputId": "152ccaf6-42ab-4162-f909-e4be66e24f28"
      },
      "outputs": [],
      "source": [
        "uploaded_file = files.upload()"
      ]
    },
    {
      "cell_type": "code",
      "execution_count": 6,
      "metadata": {
        "id": "jcaD5fONOyoO"
      },
      "outputs": [],
      "source": [
        "sentences = sent_tokenize(\n",
        "    str(\n",
        "        uploaded_file[\n",
        "            list(uploaded_file.keys())[0]\n",
        "        ]\n",
        "    )\n",
        ")"
      ]
    },
    {
      "cell_type": "code",
      "execution_count": null,
      "metadata": {
        "id": "65a9OvQxdqTn"
      },
      "outputs": [],
      "source": [
        "encoder = SentenceTransformer('./bert-base-latin-uncased/')"
      ]
    },
    {
      "cell_type": "code",
      "execution_count": 24,
      "metadata": {
        "id": "lbkT09L9F1kO"
      },
      "outputs": [],
      "source": [
        "qdrant = QdrantClient(\n",
        "    url='<url>',\n",
        "    api_key='<token>',\n",
        ")"
      ]
    },
    {
      "cell_type": "code",
      "execution_count": null,
      "metadata": {
        "id": "yfchWn5lF3Ze"
      },
      "outputs": [],
      "source": [
        "qdrant.recreate_collection(\n",
        "    collection_name='base',\n",
        "    vectors_config=models.VectorParams(\n",
        "        size=encoder.get_sentence_embedding_dimension(),\n",
        "        distance=models.Distance.COSINE\n",
        "    )\n",
        ")"
      ]
    },
    {
      "cell_type": "code",
      "execution_count": null,
      "metadata": {
        "id": "qZo_5pmIGbgh"
      },
      "outputs": [],
      "source": [
        "qdrant.upload_records(\n",
        "    collection_name='base',\n",
        "    records=[\n",
        "        models.Record(\n",
        "            id=index,\n",
        "            vector=encoder.encode(sentence).tolist(),\n",
        "            payload={\n",
        "                'name': str(list(uploaded_file.keys())[0]),\n",
        "                'text': sentence\n",
        "            }\n",
        "        ) for index, sentence in enumerate(sentences)\n",
        "    ]\n",
        ")"
      ]
    }
  ],
  "metadata": {
    "colab": {
      "provenance": []
    },
    "kernelspec": {
      "display_name": "Python 3",
      "name": "python3"
    },
    "language_info": {
      "name": "python"
    }
  },
  "nbformat": 4,
  "nbformat_minor": 0
}
