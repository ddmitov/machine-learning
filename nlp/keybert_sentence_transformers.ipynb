{
  "cells": [
    {
      "cell_type": "code",
      "execution_count": null,
      "metadata": {
        "id": "Isdg4rJE8_Tj"
      },
      "outputs": [],
      "source": [
        "!pip install keybert\n",
        "!pip install sentence-transformers"
      ]
    },
    {
      "cell_type": "code",
      "execution_count": 2,
      "metadata": {
        "id": "lBjga22i9XQ4"
      },
      "outputs": [],
      "source": [
        "import re\n",
        "\n",
        "from keybert import KeyBERT\n",
        "\n",
        "import requests\n",
        "\n",
        "from sentence_transformers import SentenceTransformer"
      ]
    },
    {
      "cell_type": "code",
      "execution_count": 4,
      "metadata": {
        "id": "LAVeCIQc9xSE"
      },
      "outputs": [],
      "source": [
        "magna_carta_response = requests.get('https://raw.githubusercontent.com/ddmitov/magna-carta/master/tool/magna-carta.txt')\n",
        "magna_carta_text = magna_carta_response.text"
      ]
    },
    {
      "cell_type": "code",
      "execution_count": 5,
      "metadata": {
        "id": "PvQYHlIB99aJ"
      },
      "outputs": [],
      "source": [
        "stopwords_response = requests.get('https://raw.githubusercontent.com/aurelberra/stopwords/master/stopwords_latin.txt')\n",
        "stopwords_text = stopwords_response.text\n",
        "\n",
        "stopwords = []\n",
        "\n",
        "stopword_lines = stopwords_text.split('\\n')\n",
        "\n",
        "for stopword_line in stopword_lines:\n",
        "  if not re.match('^#', stopword_line):\n",
        "    stopwords.append(stopword_line.strip())"
      ]
    },
    {
      "cell_type": "code",
      "execution_count": null,
      "metadata": {
        "id": "C_560MEs_gDs"
      },
      "outputs": [],
      "source": [
        "keyword_model = KeyBERT(\n",
        "    model=SentenceTransformer(\n",
        "        \"silencesys/paraphrase-xlm-r-multilingual-v1-fine-tuned-for-medieval-latin\"\n",
        "    )\n",
        ")"
      ]
    },
    {
      "cell_type": "code",
      "execution_count": null,
      "metadata": {
        "colab": {
          "base_uri": "https://localhost:8080/"
        },
        "id": "GEHWHUrK9_nX",
        "outputId": "ec335320-38b6-45cf-b027-be2b27e0d9bd"
      },
      "outputs": [],
      "source": [
        "keyword_model.extract_keywords(\n",
        "    docs=magna_carta_text,\n",
        "    stop_words=stopwords,\n",
        "    top_n=30\n",
        ")"
      ]
    }
  ],
  "metadata": {
    "colab": {
      "provenance": []
    },
    "kernelspec": {
      "display_name": "Python 3",
      "name": "python3"
    },
    "language_info": {
      "name": "python"
    }
  },
  "nbformat": 4,
  "nbformat_minor": 0
}
