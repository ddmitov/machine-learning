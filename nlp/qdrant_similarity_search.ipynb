{
  "cells": [
    {
      "cell_type": "code",
      "execution_count": null,
      "metadata": {
        "id": "LUiZ_zcUcxzP"
      },
      "outputs": [],
      "source": [
        "!pip install qdrant-client\n",
        "!pip install sentence-transformers"
      ]
    },
    {
      "cell_type": "code",
      "execution_count": null,
      "metadata": {
        "id": "Z6CIAyyA_z9h"
      },
      "outputs": [],
      "source": [
        "!mkdir ./bert-base-latin-uncased\n",
        "\n",
        "!wget --no-check-certificate --load-cookies /tmp/cookies.txt \\\n",
        "\"https://docs.google.com/uc?export=download&confirm=$(wget --quiet \\\n",
        "--save-cookies /tmp/cookies.txt --keep-session-cookies --no-check-certificate \\\n",
        " 'https://docs.google.com/uc?export=download&id=1Te_14UB-DZ8wYPhHGyDg7LadDTjNzpti' -O- | \\\n",
        "sed -rn 's/.*confirm=([0-9A-Za-z_]+).*/\\1\\n/p')&id=1Te_14UB-DZ8wYPhHGyDg7LadDTjNzpti\" \\\n",
        "-O ./latin_bert.tar\n",
        "\n",
        "!rm -f /tmp/cookies.txt\n",
        "\n",
        "!tar -xf ./latin_bert.tar --strip-components 1 -C ./bert-base-latin-uncased\n",
        "!rm ./latin_bert.tar"
      ]
    },
    {
      "cell_type": "code",
      "execution_count": null,
      "metadata": {
        "id": "0LvwLV9Cc27y"
      },
      "outputs": [],
      "source": [
        "from google.colab import files\n",
        "\n",
        "import nltk\n",
        "from nltk.tokenize import sent_tokenize\n",
        "\n",
        "from qdrant_client import models, QdrantClient\n",
        "\n",
        "from sentence_transformers import SentenceTransformer"
      ]
    },
    {
      "cell_type": "code",
      "execution_count": null,
      "metadata": {
        "id": "sK4NEKdQL3qb"
      },
      "outputs": [],
      "source": [
        "nltk.download('punkt')"
      ]
    },
    {
      "cell_type": "code",
      "execution_count": null,
      "metadata": {
        "id": "65a9OvQxdqTn"
      },
      "outputs": [],
      "source": [
        "encoder = SentenceTransformer('./bert-base-latin-uncased/')"
      ]
    },
    {
      "cell_type": "code",
      "execution_count": null,
      "metadata": {
        "id": "lbkT09L9F1kO"
      },
      "outputs": [],
      "source": [
        "qdrant = QdrantClient(\n",
        "    url='<url>', \n",
        "    api_key='<token>',\n",
        ")"
      ]
    },
    {
      "cell_type": "code",
      "execution_count": null,
      "metadata": {
        "id": "Gv7H61eKHoRl"
      },
      "outputs": [],
      "source": [
        "search_phrase = 'sine legali judicio parium suorum'\n",
        "\n",
        "hits = qdrant.search(\n",
        "    collection_name='base',\n",
        "    query_vector=encoder.encode(search_phrase).tolist(),\n",
        "    limit=3\n",
        ")\n",
        "\n",
        "display('==============================')\n",
        "display('Search Phrase:')\n",
        "display(search_phrase)\n",
        "display('==============================')\n",
        "\n",
        "for hit in hits:\n",
        "  display(\n",
        "      hit.payload['name'],\n",
        "      hit.payload['text'],\n",
        "      'score:',\n",
        "      hit.score\n",
        "  )\n",
        "  display('==========')"
      ]
    }
  ],
  "metadata": {
    "colab": {
      "provenance": []
    },
    "kernelspec": {
      "display_name": "Python 3",
      "name": "python3"
    },
    "language_info": {
      "name": "python"
    }
  },
  "nbformat": 4,
  "nbformat_minor": 0
}
