{
  "cells": [
    {
      "cell_type": "code",
      "execution_count": null,
      "metadata": {
        "id": "NQucidJiqiiO"
      },
      "outputs": [],
      "source": [
        "!pip install -q deeppavlov"
      ]
    },
    {
      "cell_type": "code",
      "execution_count": null,
      "metadata": {
        "id": "2HkrCzEVrO7a"
      },
      "outputs": [],
      "source": [
        "!python -m deeppavlov install ner_ontonotes_bert"
      ]
    },
    {
      "cell_type": "code",
      "execution_count": null,
      "metadata": {
        "id": "XpQy7LdHC3Re"
      },
      "outputs": [],
      "source": [
        "import json\n",
        "\n",
        "import nltk\n",
        "from nltk.tokenize import sent_tokenize\n",
        "\n",
        "from deeppavlov import build_model\n",
        "\n",
        "nltk.download('punkt')"
      ]
    },
    {
      "cell_type": "code",
      "execution_count": 4,
      "metadata": {
        "id": "qL_EXsElrSXL"
      },
      "outputs": [],
      "source": [
        "text = '''\n",
        "\n",
        "'''"
      ]
    },
    {
      "cell_type": "code",
      "execution_count": 12,
      "metadata": {
        "id": "B1MD8-jlDBVM"
      },
      "outputs": [],
      "source": [
        "text_sentences = sent_tokenize(text.replace('\\n', ' '))"
      ]
    },
    {
      "cell_type": "code",
      "execution_count": null,
      "metadata": {
        "id": "pcVbjfJ4DFcX"
      },
      "outputs": [],
      "source": [
        "ner_model = build_model('ner_ontonotes_bert', download=True)"
      ]
    },
    {
      "cell_type": "code",
      "execution_count": 14,
      "metadata": {
        "id": "6jEaiuOhDL3F"
      },
      "outputs": [],
      "source": [
        "results = ner_model(text_sentences)"
      ]
    },
    {
      "cell_type": "code",
      "execution_count": 87,
      "metadata": {
        "id": "aowgUXhXw2cY"
      },
      "outputs": [],
      "source": [
        "dates = []\n",
        "events = []\n",
        "norp = []\n",
        "law = []\n",
        "locations = []\n",
        "persons = []\n",
        "\n",
        "ignored_categories = [\n",
        "  'O',\n",
        "  'B-CARDINAL',\n",
        "  'I-CARDINAL',\n",
        "  'B-ORDINAL',\n",
        "  'I-ORDINAL'\n",
        "]\n",
        "\n",
        "for sentence, tags in zip(results[0], results[1]):\n",
        "  for word, tag in zip(sentence, tags):\n",
        "    if tag not in ignored_categories:\n",
        "      if 'DATE' in tag:\n",
        "        tagged_item = {}\n",
        "        tagged_item[word] = tag\n",
        "        dates.append(tagged_item)\n",
        "\n",
        "      if 'EVENT' in tag:\n",
        "        tagged_item = {}\n",
        "        tagged_item[word] = tag\n",
        "        events.append(tagged_item)\n",
        "\n",
        "      if 'NORP' in tag:\n",
        "        tagged_item = {}\n",
        "        tagged_item[word] = tag\n",
        "        norp.append(tagged_item)\n",
        "\n",
        "      if 'LAW' in tag:\n",
        "        tagged_item = {}\n",
        "        tagged_item[word] = tag\n",
        "        law.append(tagged_item)\n",
        "\n",
        "      if 'LOCATION' in tag:\n",
        "        tagged_item = {}\n",
        "        tagged_item[word] = tag\n",
        "        locations.append(tagged_item)\n",
        "\n",
        "      if 'PERSON' in tag:\n",
        "        tagged_item = {}\n",
        "        tagged_item[word] = tag\n",
        "        persons.append(tagged_item)"
      ]
    },
    {
      "cell_type": "code",
      "execution_count": 88,
      "metadata": {
        "id": "JiHHwQr8vJ1H"
      },
      "outputs": [],
      "source": [
        "entity_categories = [\n",
        "  dates,\n",
        "  events,\n",
        "  norp,\n",
        "  law,\n",
        "  locations,\n",
        "  persons,\n",
        "]\n",
        "\n",
        "last_tag = ''\n",
        "last_entity_list = []\n",
        "entities_dict = {}\n",
        "\n",
        "for entity_category in entity_categories:\n",
        "  for tagged_element in entity_category:\n",
        "    for word, tag in tagged_element.items():\n",
        "      if 'B-' in tag:\n",
        "        if len(last_entity_list) > 0:\n",
        "          formatted_tag = tag\n",
        "          formatted_tag = formatted_tag.replace('B-', '')\n",
        "          formatted_tag = formatted_tag.replace('I-', '')\n",
        "\n",
        "          last_entity_string = ' '.join(map(str, last_entity_list))\n",
        "          entities_dict[last_entity_string] = formatted_tag\n",
        "\n",
        "        last_entity_list = [word]\n",
        "\n",
        "      if 'I-' in tag:\n",
        "        last_entity_list.append(word)\n",
        "\n",
        "      last_tag = tag"
      ]
    },
    {
      "cell_type": "code",
      "execution_count": null,
      "metadata": {
        "colab": {
          "base_uri": "https://localhost:8080/"
        },
        "id": "MBt3e5sLbbws",
        "outputId": "7cb2eada-490b-457c-ac44-b9c25ba9eef0"
      },
      "outputs": [],
      "source": [
        "print(json.dumps(entities_dict, indent=2))"
      ]
    }
  ],
  "metadata": {
    "colab": {
      "provenance": []
    },
    "kernelspec": {
      "display_name": "Python 3",
      "name": "python3"
    },
    "language_info": {
      "name": "python"
    }
  },
  "nbformat": 4,
  "nbformat_minor": 0
}
